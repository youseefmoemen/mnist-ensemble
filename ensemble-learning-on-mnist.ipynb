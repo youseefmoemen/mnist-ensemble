{
 "cells": [
  {
   "cell_type": "markdown",
   "id": "569a31b6",
   "metadata": {
    "id": "e0j_Zss1thjN",
    "papermill": {
     "duration": 0.014469,
     "end_time": "2022-02-07T01:24:07.041810",
     "exception": false,
     "start_time": "2022-02-07T01:24:07.027341",
     "status": "completed"
    },
    "tags": []
   },
   "source": [
    "# Ensemble Learning techniques on Mnist"
   ]
  },
  {
   "cell_type": "markdown",
   "id": "3d13c0f1",
   "metadata": {
    "id": "fisTxTFBt5JD",
    "papermill": {
     "duration": 0.012918,
     "end_time": "2022-02-07T01:24:07.068357",
     "exception": false,
     "start_time": "2022-02-07T01:24:07.055439",
     "status": "completed"
    },
    "tags": []
   },
   "source": [
    "In this Kernel we introduce diffrient ensemble technique showing how the ensemble is strongly powerful tool for machine learning.\n",
    "In the First step we just load the mnist data set using sklearn fetch_openml function and spliting into train, train and val sets"
   ]
  },
  {
   "cell_type": "markdown",
   "id": "03dfa960",
   "metadata": {
    "id": "gWhCQW1Dt3j8",
    "papermill": {
     "duration": 0.013089,
     "end_time": "2022-02-07T01:24:07.095131",
     "exception": false,
     "start_time": "2022-02-07T01:24:07.082042",
     "status": "completed"
    },
    "tags": []
   },
   "source": [
    "## Loading the data"
   ]
  },
  {
   "cell_type": "code",
   "execution_count": 1,
   "id": "11a02ef7",
   "metadata": {
    "execution": {
     "iopub.execute_input": "2022-02-07T01:24:07.125847Z",
     "iopub.status.busy": "2022-02-07T01:24:07.124534Z",
     "iopub.status.idle": "2022-02-07T01:24:08.183042Z",
     "shell.execute_reply": "2022-02-07T01:24:08.181814Z"
    },
    "id": "-tMeOV-3vpRR",
    "papermill": {
     "duration": 1.074737,
     "end_time": "2022-02-07T01:24:08.183225",
     "exception": false,
     "start_time": "2022-02-07T01:24:07.108488",
     "status": "completed"
    },
    "tags": []
   },
   "outputs": [],
   "source": [
    "from sklearn.datasets import fetch_openml\n",
    "import numpy as np"
   ]
  },
  {
   "cell_type": "code",
   "execution_count": 2,
   "id": "4c414168",
   "metadata": {
    "execution": {
     "iopub.execute_input": "2022-02-07T01:24:08.216136Z",
     "iopub.status.busy": "2022-02-07T01:24:08.215567Z",
     "iopub.status.idle": "2022-02-07T01:24:37.807340Z",
     "shell.execute_reply": "2022-02-07T01:24:37.807858Z"
    },
    "id": "8WSBoQ5BwsF9",
    "papermill": {
     "duration": 29.610993,
     "end_time": "2022-02-07T01:24:37.808032",
     "exception": false,
     "start_time": "2022-02-07T01:24:08.197039",
     "status": "completed"
    },
    "tags": []
   },
   "outputs": [],
   "source": [
    "mnist = fetch_openml('mnist_784', version=1)"
   ]
  },
  {
   "cell_type": "code",
   "execution_count": 3,
   "id": "e64682fd",
   "metadata": {
    "execution": {
     "iopub.execute_input": "2022-02-07T01:24:37.840992Z",
     "iopub.status.busy": "2022-02-07T01:24:37.840238Z",
     "iopub.status.idle": "2022-02-07T01:24:37.842706Z",
     "shell.execute_reply": "2022-02-07T01:24:37.842105Z"
    },
    "id": "pJJzw45Hbxj4",
    "papermill": {
     "duration": 0.020702,
     "end_time": "2022-02-07T01:24:37.842841",
     "exception": false,
     "start_time": "2022-02-07T01:24:37.822139",
     "status": "completed"
    },
    "tags": []
   },
   "outputs": [],
   "source": [
    "X, y = mnist['data'], mnist['target']"
   ]
  },
  {
   "cell_type": "code",
   "execution_count": 4,
   "id": "d1f14204",
   "metadata": {
    "execution": {
     "iopub.execute_input": "2022-02-07T01:24:37.875222Z",
     "iopub.status.busy": "2022-02-07T01:24:37.874618Z",
     "iopub.status.idle": "2022-02-07T01:24:38.693414Z",
     "shell.execute_reply": "2022-02-07T01:24:38.692884Z"
    },
    "id": "jZyO6JB2xcK0",
    "papermill": {
     "duration": 0.836802,
     "end_time": "2022-02-07T01:24:38.693546",
     "exception": false,
     "start_time": "2022-02-07T01:24:37.856744",
     "status": "completed"
    },
    "tags": []
   },
   "outputs": [],
   "source": [
    "from sklearn.model_selection import train_test_split\n",
    "X_train, X_test, y_train, y_test = train_test_split(X, y, test_size=10000, random_state=42)\n",
    "X_train, X_val, y_train, y_val = train_test_split(X_train, y_train, test_size=10000, random_state=42)"
   ]
  },
  {
   "cell_type": "code",
   "execution_count": 5,
   "id": "87bd959f",
   "metadata": {
    "execution": {
     "iopub.execute_input": "2022-02-07T01:24:38.724709Z",
     "iopub.status.busy": "2022-02-07T01:24:38.724106Z",
     "iopub.status.idle": "2022-02-07T01:24:38.730668Z",
     "shell.execute_reply": "2022-02-07T01:24:38.731170Z"
    },
    "id": "qysptJS0yVZj",
    "outputId": "df27b0e0-d948-4a0d-eaa9-614f70fc4d8f",
    "papermill": {
     "duration": 0.023748,
     "end_time": "2022-02-07T01:24:38.731335",
     "exception": false,
     "start_time": "2022-02-07T01:24:38.707587",
     "status": "completed"
    },
    "tags": []
   },
   "outputs": [
    {
     "data": {
      "text/plain": [
       "(50000, 10000, 10000)"
      ]
     },
     "execution_count": 5,
     "metadata": {},
     "output_type": "execute_result"
    }
   ],
   "source": [
    "len(X_train), len(X_test) , len(X_val)"
   ]
  },
  {
   "cell_type": "markdown",
   "id": "56ea3aa6",
   "metadata": {
    "id": "rBnctXbXuB1g",
    "papermill": {
     "duration": 0.01386,
     "end_time": "2022-02-07T01:24:38.759832",
     "exception": false,
     "start_time": "2022-02-07T01:24:38.745972",
     "status": "completed"
    },
    "tags": []
   },
   "source": [
    "## Voting Classifiers"
   ]
  },
  {
   "cell_type": "markdown",
   "id": "6a00e57f",
   "metadata": {
    "id": "Rhs0N8hB5ELj",
    "papermill": {
     "duration": 0.013655,
     "end_time": "2022-02-07T01:24:38.787630",
     "exception": false,
     "start_time": "2022-02-07T01:24:38.773975",
     "status": "completed"
    },
    "tags": []
   },
   "source": [
    "The **EnsembleClassifier** is consist of more than one predictor, the diffrient predictors combined together to build the ensembled model, \n",
    "In this section we used **DecisionTreeClassifier**, **LogisticRegression** and **SGDClassifier**. Combinging these three predictors using **VotingClassifers** we manged to achieve about \n",
    "**92% Accuracy score**"
   ]
  },
  {
   "cell_type": "code",
   "execution_count": 6,
   "id": "24252c65",
   "metadata": {
    "execution": {
     "iopub.execute_input": "2022-02-07T01:24:38.818310Z",
     "iopub.status.busy": "2022-02-07T01:24:38.817776Z",
     "iopub.status.idle": "2022-02-07T01:24:38.820930Z",
     "shell.execute_reply": "2022-02-07T01:24:38.821407Z"
    },
    "id": "9xFYX86SPSGN",
    "papermill": {
     "duration": 0.019987,
     "end_time": "2022-02-07T01:24:38.821579",
     "exception": false,
     "start_time": "2022-02-07T01:24:38.801592",
     "status": "completed"
    },
    "tags": []
   },
   "outputs": [],
   "source": [
    "from sklearn.metrics import accuracy_score"
   ]
  },
  {
   "cell_type": "code",
   "execution_count": 7,
   "id": "9c28a530",
   "metadata": {
    "execution": {
     "iopub.execute_input": "2022-02-07T01:24:38.855270Z",
     "iopub.status.busy": "2022-02-07T01:24:38.854599Z",
     "iopub.status.idle": "2022-02-07T01:24:55.988844Z",
     "shell.execute_reply": "2022-02-07T01:24:55.989276Z"
    },
    "id": "0xRaMbkt-GSK",
    "outputId": "ee59db94-0e96-41ca-c242-5c5a698f4a52",
    "papermill": {
     "duration": 17.15361,
     "end_time": "2022-02-07T01:24:55.989456",
     "exception": false,
     "start_time": "2022-02-07T01:24:38.835846",
     "status": "completed"
    },
    "tags": []
   },
   "outputs": [
    {
     "name": "stdout",
     "output_type": "stream",
     "text": [
      "DecisionTreeClassifier 0.8685\n"
     ]
    }
   ],
   "source": [
    "from sklearn.tree import DecisionTreeClassifier\n",
    "dt_clf = DecisionTreeClassifier()\n",
    "dt_clf.fit(X_train, y_train)\n",
    "print(dt_clf.__class__.__name__, accuracy_score(dt_clf.predict(X_val), y_val))"
   ]
  },
  {
   "cell_type": "code",
   "execution_count": 8,
   "id": "522ec8e6",
   "metadata": {
    "execution": {
     "iopub.execute_input": "2022-02-07T01:24:56.024239Z",
     "iopub.status.busy": "2022-02-07T01:24:56.023618Z",
     "iopub.status.idle": "2022-02-07T01:25:12.418969Z",
     "shell.execute_reply": "2022-02-07T01:25:12.419895Z"
    },
    "id": "IWDYT-8s-Gn8",
    "outputId": "4968e609-e007-4257-f0bb-5fe1954c3965",
    "papermill": {
     "duration": 16.41584,
     "end_time": "2022-02-07T01:25:12.420172",
     "exception": false,
     "start_time": "2022-02-07T01:24:56.004332",
     "status": "completed"
    },
    "tags": []
   },
   "outputs": [
    {
     "name": "stdout",
     "output_type": "stream",
     "text": [
      "LogisticRegression 0.9218\n"
     ]
    }
   ],
   "source": [
    "from sklearn.linear_model import LogisticRegression\n",
    "log_clf = LogisticRegression(penalty=\"l1\", solver=\"saga\", tol=0.1)\n",
    "log_clf.fit(X_train, y_train)\n",
    "print(log_clf.__class__.__name__, accuracy_score(log_clf.predict(X_val), y_val))"
   ]
  },
  {
   "cell_type": "code",
   "execution_count": 9,
   "id": "79c5e3f1",
   "metadata": {
    "execution": {
     "iopub.execute_input": "2022-02-07T01:25:12.490222Z",
     "iopub.status.busy": "2022-02-07T01:25:12.489208Z",
     "iopub.status.idle": "2022-02-07T01:27:37.907143Z",
     "shell.execute_reply": "2022-02-07T01:27:37.908655Z"
    },
    "id": "Ro35hEfM-G8e",
    "outputId": "34075c34-2db5-41ec-94d9-d3468bace7fa",
    "papermill": {
     "duration": 145.458761,
     "end_time": "2022-02-07T01:27:37.909121",
     "exception": false,
     "start_time": "2022-02-07T01:25:12.450360",
     "status": "completed"
    },
    "tags": []
   },
   "outputs": [
    {
     "name": "stdout",
     "output_type": "stream",
     "text": [
      "SGDClassifier 0.8903\n"
     ]
    }
   ],
   "source": [
    "from sklearn.linear_model import SGDClassifier\n",
    "sgd_clf = SGDClassifier(loss = 'modified_huber')\n",
    "sgd_clf.fit(X_train, y_train)\n",
    "print(sgd_clf.__class__.__name__, accuracy_score(sgd_clf.predict(X_val), y_val))"
   ]
  },
  {
   "cell_type": "code",
   "execution_count": 10,
   "id": "34098c7f",
   "metadata": {
    "execution": {
     "iopub.execute_input": "2022-02-07T01:27:37.978689Z",
     "iopub.status.busy": "2022-02-07T01:27:37.977968Z",
     "iopub.status.idle": "2022-02-07T01:30:22.890108Z",
     "shell.execute_reply": "2022-02-07T01:30:22.890970Z"
    },
    "id": "cDM7GmKWfHrD",
    "outputId": "a76b54d8-515c-480e-93d3-7ae4e2a6b190",
    "papermill": {
     "duration": 164.951254,
     "end_time": "2022-02-07T01:30:22.891292",
     "exception": false,
     "start_time": "2022-02-07T01:27:37.940038",
     "status": "completed"
    },
    "tags": []
   },
   "outputs": [
    {
     "name": "stdout",
     "output_type": "stream",
     "text": [
      "VotingClassifier 0.9095\n"
     ]
    }
   ],
   "source": [
    "from sklearn.ensemble import VotingClassifier\n",
    "voting_clf = VotingClassifier(\n",
    "    estimators=[('dtree', dt_clf), ('log_clf', log_clf), ('sgd', sgd_clf)],\n",
    "    voting='soft'\n",
    ")\n",
    "voting_clf.fit(X_train, y_train)\n",
    "print(voting_clf.__class__.__name__, accuracy_score(voting_clf.predict(X_val), y_val))"
   ]
  },
  {
   "cell_type": "markdown",
   "id": "3f725ab8",
   "metadata": {
    "id": "MX3QdfwLuM8F",
    "papermill": {
     "duration": 0.029377,
     "end_time": "2022-02-07T01:30:22.951597",
     "exception": false,
     "start_time": "2022-02-07T01:30:22.922220",
     "status": "completed"
    },
    "tags": []
   },
   "source": [
    "## Stacking"
   ]
  },
  {
   "cell_type": "markdown",
   "id": "75bd9f28",
   "metadata": {
    "id": "1S73iurIkJ-C",
    "papermill": {
     "duration": 0.015155,
     "end_time": "2022-02-07T01:30:22.982109",
     "exception": false,
     "start_time": "2022-02-07T01:30:22.966954",
     "status": "completed"
    },
    "tags": []
   },
   "source": [
    "**Blinder** is a **Stacking** method. In Stacking we makeing a predictor with input features consisting of the outputs of the other predictors we used an ExtraTrees as Blinder"
   ]
  },
  {
   "cell_type": "code",
   "execution_count": 11,
   "id": "cd898076",
   "metadata": {
    "execution": {
     "iopub.execute_input": "2022-02-07T01:30:23.019712Z",
     "iopub.status.busy": "2022-02-07T01:30:23.019129Z",
     "iopub.status.idle": "2022-02-07T01:30:23.520826Z",
     "shell.execute_reply": "2022-02-07T01:30:23.521872Z"
    },
    "id": "OFxcwFmvkH2F",
    "papermill": {
     "duration": 0.524555,
     "end_time": "2022-02-07T01:30:23.522152",
     "exception": false,
     "start_time": "2022-02-07T01:30:22.997597",
     "status": "completed"
    },
    "tags": []
   },
   "outputs": [],
   "source": [
    "X_train_blender = np.c_[dt_clf.predict(X_train), log_clf.predict(X_train), sgd_clf.predict(X_train)]\n",
    "X_val_blender = np.c_[dt_clf.predict(X_val), log_clf.predict(X_val), sgd_clf.predict(X_val)]"
   ]
  },
  {
   "cell_type": "code",
   "execution_count": 12,
   "id": "8e0d25ef",
   "metadata": {
    "execution": {
     "iopub.execute_input": "2022-02-07T01:30:23.615769Z",
     "iopub.status.busy": "2022-02-07T01:30:23.614807Z",
     "iopub.status.idle": "2022-02-07T01:31:25.702913Z",
     "shell.execute_reply": "2022-02-07T01:31:25.703390Z"
    },
    "id": "pf4zoH6iknhP",
    "outputId": "4b3623f6-33b3-45d3-eaf8-048ad494aa57",
    "papermill": {
     "duration": 62.151188,
     "end_time": "2022-02-07T01:31:25.703577",
     "exception": false,
     "start_time": "2022-02-07T01:30:23.552389",
     "status": "completed"
    },
    "tags": []
   },
   "outputs": [
    {
     "name": "stdout",
     "output_type": "stream",
     "text": [
      "ExtraTreesClassifier 0.8685\n"
     ]
    }
   ],
   "source": [
    "from sklearn.ensemble import ExtraTreesClassifier\n",
    "ext_clf = ExtraTreesClassifier(n_estimators=5000)\n",
    "ext_clf.fit(X_train_blender, y_train)\n",
    "print(ext_clf.__class__.__name__, accuracy_score(ext_clf.predict(X_val_blender), y_val))"
   ]
  },
  {
   "cell_type": "markdown",
   "id": "0cb89034",
   "metadata": {
    "id": "1lk4BWkCuWKY",
    "papermill": {
     "duration": 0.015633,
     "end_time": "2022-02-07T01:31:25.735390",
     "exception": false,
     "start_time": "2022-02-07T01:31:25.719757",
     "status": "completed"
    },
    "tags": []
   },
   "source": [
    "## Using More Powerful predictors"
   ]
  },
  {
   "cell_type": "markdown",
   "id": "843b701a",
   "metadata": {
    "id": "0U8pgNOUsfeo",
    "papermill": {
     "duration": 0.015641,
     "end_time": "2022-02-07T01:31:25.766986",
     "exception": false,
     "start_time": "2022-02-07T01:31:25.751345",
     "status": "completed"
    },
    "tags": []
   },
   "source": [
    "The performance of the ensemble might depend on the predictors.\n",
    "for example in this section we used more strong models like **SVM** and **RandomForest** and **ExtrTrees** we end up with 96% Accuracy"
   ]
  },
  {
   "cell_type": "code",
   "execution_count": 13,
   "id": "77052716",
   "metadata": {
    "execution": {
     "iopub.execute_input": "2022-02-07T01:31:25.801625Z",
     "iopub.status.busy": "2022-02-07T01:31:25.801089Z",
     "iopub.status.idle": "2022-02-07T01:31:25.804335Z",
     "shell.execute_reply": "2022-02-07T01:31:25.804870Z"
    },
    "id": "jUJb5nG3ygXT",
    "papermill": {
     "duration": 0.022176,
     "end_time": "2022-02-07T01:31:25.805014",
     "exception": false,
     "start_time": "2022-02-07T01:31:25.782838",
     "status": "completed"
    },
    "tags": []
   },
   "outputs": [],
   "source": [
    "from sklearn.ensemble import RandomForestClassifier\n",
    "from sklearn.svm import SVC\n",
    "from sklearn.ensemble import ExtraTreesClassifier\n",
    "from sklearn.ensemble import VotingClassifier"
   ]
  },
  {
   "cell_type": "code",
   "execution_count": 14,
   "id": "9d4aa463",
   "metadata": {
    "execution": {
     "iopub.execute_input": "2022-02-07T01:31:25.849075Z",
     "iopub.status.busy": "2022-02-07T01:31:25.839391Z",
     "iopub.status.idle": "2022-02-07T01:31:25.851578Z",
     "shell.execute_reply": "2022-02-07T01:31:25.851008Z"
    },
    "id": "QJ_HRVajzolj",
    "papermill": {
     "duration": 0.030706,
     "end_time": "2022-02-07T01:31:25.851711",
     "exception": false,
     "start_time": "2022-02-07T01:31:25.821005",
     "status": "completed"
    },
    "tags": []
   },
   "outputs": [],
   "source": [
    "rnd_clf = RandomForestClassifier()\n",
    "svc_clf = SVC(probability=True)\n",
    "ext_clf = ExtraTreesClassifier()\n",
    "vot_clf = VotingClassifier(\n",
    "    estimators = [('rndf', rnd_clf), ('svc', svc_clf), ('ext', ext_clf)],\n",
    "    voting = 'soft',    \n",
    ")"
   ]
  },
  {
   "cell_type": "code",
   "execution_count": 15,
   "id": "c0dc5ed7",
   "metadata": {
    "execution": {
     "iopub.execute_input": "2022-02-07T01:31:25.889036Z",
     "iopub.status.busy": "2022-02-07T01:31:25.888422Z",
     "iopub.status.idle": "2022-02-07T02:47:46.141923Z",
     "shell.execute_reply": "2022-02-07T02:47:46.142451Z"
    },
    "id": "7CYUC0og1jDy",
    "outputId": "2c34c1f7-50a6-4def-e083-65c4c9f89928",
    "papermill": {
     "duration": 4580.27482,
     "end_time": "2022-02-07T02:47:46.142708",
     "exception": false,
     "start_time": "2022-02-07T01:31:25.867888",
     "status": "completed"
    },
    "tags": []
   },
   "outputs": [
    {
     "name": "stdout",
     "output_type": "stream",
     "text": [
      "RandomForestClassifier 0.9696\n",
      "SVC 0.9788\n",
      "ExtraTreesClassifier 0.9714\n",
      "VotingClassifier 0.9793\n"
     ]
    }
   ],
   "source": [
    "for clf in (rnd_clf, svc_clf, ext_clf, vot_clf):\n",
    "  clf.fit(X_train, y_train)\n",
    "  print(clf.__class__.__name__, accuracy_score(clf.predict(X_val), y_val))"
   ]
  },
  {
   "cell_type": "code",
   "execution_count": 16,
   "id": "0383ddbd",
   "metadata": {
    "execution": {
     "iopub.execute_input": "2022-02-07T02:47:46.180533Z",
     "iopub.status.busy": "2022-02-07T02:47:46.179985Z",
     "iopub.status.idle": "2022-02-07T02:50:05.588296Z",
     "shell.execute_reply": "2022-02-07T02:50:05.587694Z"
    },
    "id": "65MeBGncuaVo",
    "papermill": {
     "duration": 139.42876,
     "end_time": "2022-02-07T02:50:05.588473",
     "exception": false,
     "start_time": "2022-02-07T02:47:46.159713",
     "status": "completed"
    },
    "tags": []
   },
   "outputs": [],
   "source": [
    "X_train_blender = np.c_[rnd_clf.predict(X_val), svc_clf.predict(X_val), ext_clf.predict(X_val)]"
   ]
  },
  {
   "cell_type": "code",
   "execution_count": 17,
   "id": "9827bdfb",
   "metadata": {
    "execution": {
     "iopub.execute_input": "2022-02-07T02:50:05.629327Z",
     "iopub.status.busy": "2022-02-07T02:50:05.628614Z",
     "iopub.status.idle": "2022-02-07T02:52:24.426931Z",
     "shell.execute_reply": "2022-02-07T02:52:24.426255Z"
    },
    "id": "r4iotx07zRKD",
    "papermill": {
     "duration": 138.82076,
     "end_time": "2022-02-07T02:52:24.427154",
     "exception": false,
     "start_time": "2022-02-07T02:50:05.606394",
     "status": "completed"
    },
    "tags": []
   },
   "outputs": [],
   "source": [
    "X_test_blender = np.c_[rnd_clf.predict(X_test), svc_clf.predict(X_test), ext_clf.predict(X_test)]"
   ]
  },
  {
   "cell_type": "code",
   "execution_count": 18,
   "id": "6c16d1ac",
   "metadata": {
    "execution": {
     "iopub.execute_input": "2022-02-07T02:52:24.487683Z",
     "iopub.status.busy": "2022-02-07T02:52:24.486972Z",
     "iopub.status.idle": "2022-02-07T02:52:24.730131Z",
     "shell.execute_reply": "2022-02-07T02:52:24.729659Z"
    },
    "id": "Y2OvG5u5uzi3",
    "papermill": {
     "duration": 0.273894,
     "end_time": "2022-02-07T02:52:24.730265",
     "exception": false,
     "start_time": "2022-02-07T02:52:24.456371",
     "status": "completed"
    },
    "tags": []
   },
   "outputs": [
    {
     "data": {
      "text/plain": [
       "SVC()"
      ]
     },
     "execution_count": 18,
     "metadata": {},
     "output_type": "execute_result"
    }
   ],
   "source": [
    "svc_blender = SVC()\n",
    "svc_blender.fit(X_train_blender, y_val)"
   ]
  },
  {
   "cell_type": "code",
   "execution_count": 19,
   "id": "bcd3a893",
   "metadata": {
    "execution": {
     "iopub.execute_input": "2022-02-07T02:52:24.778485Z",
     "iopub.status.busy": "2022-02-07T02:52:24.777667Z",
     "iopub.status.idle": "2022-02-07T02:52:24.960472Z",
     "shell.execute_reply": "2022-02-07T02:52:24.961154Z"
    },
    "id": "dI7Z1zAtyLec",
    "outputId": "83f1ae00-65a7-4cb4-9980-88c8590173ef",
    "papermill": {
     "duration": 0.211194,
     "end_time": "2022-02-07T02:52:24.961376",
     "exception": false,
     "start_time": "2022-02-07T02:52:24.750182",
     "status": "completed"
    },
    "tags": []
   },
   "outputs": [
    {
     "name": "stdout",
     "output_type": "stream",
     "text": [
      "SVC 0.9646\n"
     ]
    }
   ],
   "source": [
    "print(svc_blender.__class__.__name__, accuracy_score(svc_blender.predict(X_test_blender), y_test))"
   ]
  },
  {
   "cell_type": "markdown",
   "id": "1e353ea8",
   "metadata": {
    "id": "9mPRd3UXvOZ7",
    "papermill": {
     "duration": 0.026733,
     "end_time": "2022-02-07T02:52:25.014681",
     "exception": false,
     "start_time": "2022-02-07T02:52:24.987948",
     "status": "completed"
    },
    "tags": []
   },
   "source": [
    "Also there is other ensembling techniques like Bageing and Pasting, Boosting and others that you might try yourself.\n",
    "\n"
   ]
  },
  {
   "cell_type": "markdown",
   "id": "265eda16",
   "metadata": {
    "id": "tFKqvDlgtWVX",
    "papermill": {
     "duration": 0.017881,
     "end_time": "2022-02-07T02:52:25.050885",
     "exception": false,
     "start_time": "2022-02-07T02:52:25.033004",
     "status": "completed"
    },
    "tags": []
   },
   "source": [
    "I hope you enjoyed this Notebook i wish you to tell me in the comments how to improve my skills. 🥰"
   ]
  }
 ],
 "metadata": {
  "kernelspec": {
   "display_name": "Python 3",
   "language": "python",
   "name": "python3"
  },
  "language_info": {
   "codemirror_mode": {
    "name": "ipython",
    "version": 3
   },
   "file_extension": ".py",
   "mimetype": "text/x-python",
   "name": "python",
   "nbconvert_exporter": "python",
   "pygments_lexer": "ipython3",
   "version": "3.7.12"
  },
  "papermill": {
   "default_parameters": {},
   "duration": 5306.897006,
   "end_time": "2022-02-07T02:52:25.891056",
   "environment_variables": {},
   "exception": null,
   "input_path": "__notebook__.ipynb",
   "output_path": "__notebook__.ipynb",
   "parameters": {},
   "start_time": "2022-02-07T01:23:58.994050",
   "version": "2.3.3"
  }
 },
 "nbformat": 4,
 "nbformat_minor": 5
}
